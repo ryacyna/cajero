{
  "nbformat": 4,
  "nbformat_minor": 0,
  "metadata": {
    "colab": {
      "name": "PROYECTO.ipynb",
      "version": "0.3.2",
      "views": {},
      "default_view": {},
      "provenance": [],
      "collapsed_sections": []
    }
  },
  "cells": [
    {
      "metadata": {
        "id": "ejFgixcEwX4Q",
        "colab_type": "text"
      },
      "cell_type": "markdown",
      "source": [
        "# **Ing en Sofware: Cajero**\n",
        "\n",
        "##Especificiación\n",
        "\n",
        " Un Banco necesita un sistema que le permite llevar los datos de sus clientes y que además le permita manejar extracciones y depósitos de dinero.\n",
        "\n",
        "Para esto el Banco divide las siguientes entidades:\n",
        "\n",
        "**Personas**: Posee todos sus datos personales (nombre, apellido, edad, dni, domicilio, etc). Y posee una funcionalidad que permite cargar por consola estos datos.\n",
        "\n",
        "**Cliente**: este tiene los datos de persona y le añade los datos de fecha de alta, fecha de baja (si existe) y sucursal. Funcionalidad: darse de alta y de baja.\n",
        "\n",
        "**Cuenta**: Posee los atributos de clientes y le añade número, saldo y la capacidad de agregar y extraer dinero. \n",
        "\n",
        "**Cajero**: Aquí se ejecuta la extracción. Tiene atributos: 1) cola de clientes, que posee todos los clientes que quieren realizar alguna operación y 2) una funcionalidad que va atendiendo a cada cliente y ejecutando lo que deseen hacer.\n",
        "\n",
        "Esto es solo la forma que el banco pensó su solución, debemos respetarla pero también debemos mejorarla y recomendarle al banco métodos más simples, seguros y si hay alguna funcionalidad que le está faltando. \n",
        " \n",
        "\n",
        "##Consignas Técnicas\n",
        "\n",
        "\n",
        "- Se debe realizar el trabajo de una manera planificada con Scrum.\n",
        "\n",
        "- Definir el sistema de Control de versiones (github).\n",
        "\n",
        "- Se deberá presentar el Diseño en UML. Y las Historias de usuario.\n",
        "\n",
        "\n",
        "## Consignas Generales.\n",
        "\n",
        "- Grupo de 3\n",
        "\n",
        "- La fecha límite de entrega de este trabajo es el día Martes 3 de Julio de 2018 a las 23:59hs por email a la cuenta juansca1229@gmail.com .\n",
        "\n",
        "- El trabajo será entregado tanto en formato .tar.gz como el link al repositorio en el que estén trabajando. Basta con que lo entregue un integrante del grupo. No se descarta la posibilidad de una examinación de los commits en el repositorio.\n",
        "\n",
        "- Cada integrante debe enviar un breve informe (no más de dos páginas y no menos de una) comentando al respecto de sus conclusiones generales del proyecto (similar a una retrospective sumado a cuestiones técnicas).\n",
        "\n",
        "- El día 5 de Julio de 2018 se realizará un coloquio individual en donde se deberá defender el trabajo y explicar cada una de las partes del mismo. Además, se harán algunas preguntas teóricas al respecto de lo visto en las clases hasta ahora\n",
        "\n",
        " \n",
        "\n"
      ]
    },
    {
      "metadata": {
        "id": "ECmWhx9Bzyum",
        "colab_type": "text"
      },
      "cell_type": "markdown",
      "source": [
        "\n",
        "![texto alternativo](https://2.bp.blogspot.com/-bEGzuRz6Lq4/WmGKSR0O6ZI/AAAAAAAAFOY/GGTZyyvnLDw-OI7DP8pjjDb81539NHJUgCLcBGAs/s1600/La%2Bcertificacion%2BScrum%2BMaster%2BProfesional.png)"
      ]
    },
    {
      "metadata": {
        "id": "xWe2seT1zGFh",
        "colab_type": "text"
      },
      "cell_type": "markdown",
      "source": [
        "[LOS 11 PASOS DEL SCRUM](http://managementplaza.es/blog/los-11-pasos-para-implementar-metodologia-scrum/)"
      ]
    },
    {
      "metadata": {
        "id": "9ZE7nGexzgvj",
        "colab_type": "text"
      },
      "cell_type": "markdown",
      "source": [
        "[Teoria Scrum](https://drive.google.com/open?id=1ZFiw4VEHj_EDxCjrP12yvuqp7C6UwY7M)"
      ]
    },
    {
      "metadata": {
        "id": "4dOE0-uRyXT_",
        "colab_type": "text"
      },
      "cell_type": "markdown",
      "source": [
        "##EQUIPO: \n",
        "\n",
        "Leandro (Scrum Master - Equipo)\n",
        "\n",
        "Rene (Product Owner - Equipo)\n",
        "\n",
        "Lourdes (Equipo)\n",
        "\n",
        "![texto alternativo](https://samuelcasanova.com/wp-content/uploads/2017/08/Resumen-Scrum-Roles-1024x370.png)\n",
        "\n",
        "##Product Backlog (lista de objetivos)\n",
        "\n",
        "![texto alternativo](http://programaenlinea.net/wp-content/uploads/2018/03/SCRUM-SCRUM.jpg)\n",
        "\n",
        "- Extracciones \n",
        "- Depósitos\n",
        "- Crear base datos\n",
        "    - persona \n",
        "    - cliente\n",
        "    - cuenta\n",
        "\n",
        "- Consola \n",
        "    - Personas\n",
        "    - Clientes \n",
        "    - Cuentas\n",
        "   \n",
        "- Cajero \n",
        "    - Extracciones\n",
        "    - Depósitos\n",
        "    - (+) info\n",
        "    - (+) consultas\n",
        " \n",
        " - Registro Movimientos\n",
        "    -movimientos de la cuenta\n",
        "  \n",
        "  \n"
      ]
    },
    {
      "metadata": {
        "id": "QcxewEnH4XN1",
        "colab_type": "text"
      },
      "cell_type": "markdown",
      "source": [
        "## Consultar al cliente:\n",
        "- Solo movimientos en pesos?\n",
        "- A que se refiere con Cola de clientes\n",
        "- Todas las personas son clientes ?\n",
        "- El cliente puede tener más de una cuenta?\n",
        "- Se pueden modificar y/o eliminar los datos de las personas?\n"
      ]
    },
    {
      "metadata": {
        "id": "p98_uF-m9Y1J",
        "colab_type": "text"
      },
      "cell_type": "markdown",
      "source": [
        "## **1er SPRINT**\n",
        "\n",
        "##Sprint Planning\n",
        "\n",
        "###Sprint Backlog:\n",
        "\n",
        "    - Modelado (UML)\n",
        "    \n",
        "    - Implementación: \n",
        "        \n",
        "        - Clases (python3.6)\n",
        "        \n",
        "        - BD (sqlite)\n",
        "        \n",
        "        - Elaborar menú de consola de cajero\n",
        "\n",
        "###Daily 1:\n",
        "    Tareas\n",
        "    Rene: empezar a implementar bd\n",
        "    Leandro: empezar a implementar menu del cajero\n",
        "    Lourdes: empezar a implementar clases\n",
        "    \n",
        "##**2do SPRINT**\n",
        "\n",
        "##Sprint Planing\n",
        "\n",
        "###Sprint Backlog: \n",
        "\n",
        "    - Incluir modificaciones en cuenta - 1\n",
        "    - Agregar cola de clientes - 5\n",
        "    - Terminar código de métodos de clases - 7\n",
        "    - Terminar el código del cajero central - 1\n",
        "    - Terminar los menus - 3\n",
        "    - Terminar base datos - 1\n",
        "    \n",
        "    Daily 1:\n",
        "    Tareas\n",
        "        Rene: Terminar bd\n",
        "        Leandro: Terminar menús\n",
        "        Lourdes: Modificaciones en cuenta y código cajero\n",
        "       \n",
        "       \n",
        "   \n",
        "        \n",
        "\n",
        "\n",
        "\n",
        "\n"
      ]
    }
  ]
}